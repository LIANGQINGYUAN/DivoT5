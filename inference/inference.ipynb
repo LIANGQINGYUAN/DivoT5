{
 "cells": [
  {
   "cell_type": "code",
   "execution_count": 1,
   "metadata": {},
   "outputs": [
    {
     "name": "stdout",
     "output_type": "stream",
     "text": [
      "Loading config from:  ../models/Salesforce/codet5-base\n",
      "Loading tokenizer from:  ../models/Salesforce/codet5-base\n",
      "Loading model from:  ../models/Salesforce/codet5-base\n"
     ]
    },
    {
     "data": {
      "text/plain": [
       "<All keys matched successfully>"
      ]
     },
     "execution_count": 1,
     "metadata": {},
     "output_type": "execute_result"
    }
   ],
   "source": [
    "import torch\n",
    "from models import build_or_load_gen_model\n",
    "import argparse\n",
    "\n",
    "parser = argparse.ArgumentParser()\n",
    "args = parser.parse_args(args=[]) \n",
    "\n",
    "args.model_type = 'codet5'\n",
    "args.model_name_or_path = 'Salesforce/codet5-base'\n",
    "args.tokenizer_name = 'Salesforce/codet5-base'\n",
    "args.from_scratch = False\n",
    "args.add_lang_ids = False\n",
    "args.load_model_path = None\n",
    "config, model, tokenizer = build_or_load_gen_model(args)\n",
    "args.load = '../models/codereview.bin'\n",
    "# model = accelerator.unwrap_model(model)\n",
    "model.load_state_dict(torch.load(args.load, map_location=\"cpu\"))"
   ]
  },
  {
   "cell_type": "code",
   "execution_count": 2,
   "metadata": {},
   "outputs": [],
   "source": [
    "# Priginal weights of codet5: ../models/Salesforce/codet5-base\n",
    "# Our model weights of fine-tuned DivoT5: ../models/microsoft/codebert-base"
   ]
  },
  {
   "cell_type": "code",
   "execution_count": 3,
   "metadata": {},
   "outputs": [],
   "source": [
    "model.to('cuda')\n",
    "model.eval()\n",
    "# get ids\n",
    "input_code = 'public void close ( ) { sketch = null ; } <s> Could set `null` to the `values` field too'\n",
    "inputs = tokenizer.encode_plus(input_code, max_length=512, padding='max_length', return_tensors='pt').to('cuda')"
   ]
  },
  {
   "cell_type": "code",
   "execution_count": 4,
   "metadata": {},
   "outputs": [],
   "source": [
    "decode_ids = model.generate(inputs['input_ids'], attention_mask=inputs['attention_mask'], max_length=512, num_beams=10)"
   ]
  },
  {
   "cell_type": "code",
   "execution_count": 5,
   "metadata": {},
   "outputs": [
    {
     "data": {
      "text/plain": [
       "'public void close ( ) { sketch = null ; values = null ; }'"
      ]
     },
     "execution_count": 5,
     "metadata": {},
     "output_type": "execute_result"
    }
   ],
   "source": [
    "tokenizer.decode(decode_ids[0], skip_special_tokens=True, clean_up_tokenization_spaces=False)"
   ]
  },
  {
   "cell_type": "code",
   "execution_count": null,
   "metadata": {},
   "outputs": [],
   "source": []
  }
 ],
 "metadata": {
  "kernelspec": {
   "display_name": "base",
   "language": "python",
   "name": "python3"
  },
  "language_info": {
   "codemirror_mode": {
    "name": "ipython",
    "version": 3
   },
   "file_extension": ".py",
   "mimetype": "text/x-python",
   "name": "python",
   "nbconvert_exporter": "python",
   "pygments_lexer": "ipython3",
   "version": "3.11.7"
  }
 },
 "nbformat": 4,
 "nbformat_minor": 2
}
