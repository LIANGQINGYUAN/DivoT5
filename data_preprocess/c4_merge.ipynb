{
 "cells": [
  {
   "cell_type": "code",
   "execution_count": 1,
   "metadata": {},
   "outputs": [],
   "source": [
    "import json\n",
    "import pandas as pd\n",
    "from tqdm import tqdm\n",
    "import sys\n",
    "\n",
    "def read_data(file_name):\n",
    "    items = []\n",
    "    for i in open(file_name,'r').readlines():\n",
    "        items.append(json.loads(i))\n",
    "    return pd.DataFrame(items)\n",
    "def save_data(df, o_name, suffix = 'json'):\n",
    "    df = df.astype(object)\n",
    "    with open(f\"{o_name}.{suffix}\",'w+') as t:\n",
    "        for i in tqdm(range(len(df))):\n",
    "            item = df.iloc[i,:].to_dict()\n",
    "            t.write(json.dumps(item)+'\\n')\n",
    "def save_dict(d, o_name):\n",
    "    with open(f\"{o_name}.json\",'w+') as o:\n",
    "        o.write(json.dumps(d))"
   ]
  },
  {
   "cell_type": "code",
   "execution_count": 2,
   "metadata": {},
   "outputs": [],
   "source": [
    "data_ccn = read_data('./CCN_filtered.json')\n",
    "data_cp = read_data('./CommitPack_OldNew_Java.json')\n",
    "data_cp_diffusion = read_data('./CommitPack_OldNew_Java_diffusion_num3_length_constrain.json')"
   ]
  },
  {
   "cell_type": "code",
   "execution_count": 3,
   "metadata": {},
   "outputs": [
    {
     "data": {
      "text/html": [
       "<div>\n",
       "<style scoped>\n",
       "    .dataframe tbody tr th:only-of-type {\n",
       "        vertical-align: middle;\n",
       "    }\n",
       "\n",
       "    .dataframe tbody tr th {\n",
       "        vertical-align: top;\n",
       "    }\n",
       "\n",
       "    .dataframe thead th {\n",
       "        text-align: right;\n",
       "    }\n",
       "</style>\n",
       "<table border=\"1\" class=\"dataframe\">\n",
       "  <thead>\n",
       "    <tr style=\"text-align: right;\">\n",
       "      <th></th>\n",
       "      <th>msg</th>\n",
       "      <th>old</th>\n",
       "      <th>new</th>\n",
       "      <th>lang</th>\n",
       "      <th>proj</th>\n",
       "    </tr>\n",
       "  </thead>\n",
       "  <tbody>\n",
       "    <tr>\n",
       "      <th>0</th>\n",
       "      <td>fix panic TestNonSessionPanicsAreNotCaught.</td>\n",
       "      <td>func TestNonSessionPanicsAreNotCaught(t *testi...</td>\n",
       "      <td>func TestNonSessionPanicsAreNotCaught(t *testi...</td>\n",
       "      <td>go</td>\n",
       "      <td>cockroachdb__copyist</td>\n",
       "    </tr>\n",
       "    <tr>\n",
       "      <th>1</th>\n",
       "      <td>offscreen render off</td>\n",
       "      <td>function onRender(api, ctx, {bitmap, images, t...</td>\n",
       "      <td>function onRender(api, ctx, {bitmap, images, t...</td>\n",
       "      <td>javascript</td>\n",
       "      <td>d07riv__diabloweb</td>\n",
       "    </tr>\n",
       "  </tbody>\n",
       "</table>\n",
       "</div>"
      ],
      "text/plain": [
       "                                           msg  \\\n",
       "0  fix panic TestNonSessionPanicsAreNotCaught.   \n",
       "1                         offscreen render off   \n",
       "\n",
       "                                                 old  \\\n",
       "0  func TestNonSessionPanicsAreNotCaught(t *testi...   \n",
       "1  function onRender(api, ctx, {bitmap, images, t...   \n",
       "\n",
       "                                                 new        lang  \\\n",
       "0  func TestNonSessionPanicsAreNotCaught(t *testi...          go   \n",
       "1  function onRender(api, ctx, {bitmap, images, t...  javascript   \n",
       "\n",
       "                   proj  \n",
       "0  cockroachdb__copyist  \n",
       "1     d07riv__diabloweb  "
      ]
     },
     "execution_count": 3,
     "metadata": {},
     "output_type": "execute_result"
    }
   ],
   "source": [
    "data_ccn.head(2)"
   ]
  },
  {
   "cell_type": "code",
   "execution_count": 4,
   "metadata": {},
   "outputs": [
    {
     "data": {
      "text/plain": [
       "(67, 56)"
      ]
     },
     "execution_count": 4,
     "metadata": {},
     "output_type": "execute_result"
    }
   ],
   "source": [
    "sum([1 if i == '' else 0 for i in  data_ccn.old.tolist()]), sum([1 if i == '' else 0 for i in  data_ccn.new.tolist()])"
   ]
  },
  {
   "cell_type": "code",
   "execution_count": 5,
   "metadata": {},
   "outputs": [],
   "source": [
    "# length bigger than 0\n",
    "data_ccn = data_ccn.loc[(data_ccn.old != '') & (data_ccn.new != '') & (data_ccn.old != data_ccn.new )]"
   ]
  },
  {
   "cell_type": "code",
   "execution_count": 6,
   "metadata": {},
   "outputs": [
    {
     "data": {
      "text/html": [
       "<div>\n",
       "<style scoped>\n",
       "    .dataframe tbody tr th:only-of-type {\n",
       "        vertical-align: middle;\n",
       "    }\n",
       "\n",
       "    .dataframe tbody tr th {\n",
       "        vertical-align: top;\n",
       "    }\n",
       "\n",
       "    .dataframe thead th {\n",
       "        text-align: right;\n",
       "    }\n",
       "</style>\n",
       "<table border=\"1\" class=\"dataframe\">\n",
       "  <thead>\n",
       "    <tr style=\"text-align: right;\">\n",
       "      <th></th>\n",
       "      <th>commit</th>\n",
       "      <th>repos</th>\n",
       "      <th>msg</th>\n",
       "      <th>old</th>\n",
       "      <th>new</th>\n",
       "      <th>selected</th>\n",
       "    </tr>\n",
       "  </thead>\n",
       "  <tbody>\n",
       "    <tr>\n",
       "      <th>0</th>\n",
       "      <td>dfe15087d9fe3bd8d8ba98c80bf2fc08d26f04f1</td>\n",
       "      <td>rodsol/relex-temp,AmeBel/relex,opencog/relex,a...</td>\n",
       "      <td>print multiple parses\\n</td>\n",
       "      <td>\\t\\t\\t\\tins = out_sock.getInputStream();\\n\\t\\t...</td>\n",
       "      <td>\\t\\t\\t\\tins = out_sock.getInputStream();\\n\\t\\t...</td>\n",
       "      <td>1</td>\n",
       "    </tr>\n",
       "    <tr>\n",
       "      <th>1</th>\n",
       "      <td>411840b9b28ac429ef463fad7e7cf69f4424272f</td>\n",
       "      <td>kasemir/org.csstudio.display.builder,ESSICS/or...</td>\n",
       "      <td>Added support for SVG D&amp;D.\\n</td>\n",
       "      <td>private static Stroke OUTLINE_STROKE = new...</td>\n",
       "      <td>private static Stroke OUTLINE_STROKE = new...</td>\n",
       "      <td>1</td>\n",
       "    </tr>\n",
       "  </tbody>\n",
       "</table>\n",
       "</div>"
      ],
      "text/plain": [
       "                                     commit  \\\n",
       "0  dfe15087d9fe3bd8d8ba98c80bf2fc08d26f04f1   \n",
       "1  411840b9b28ac429ef463fad7e7cf69f4424272f   \n",
       "\n",
       "                                               repos  \\\n",
       "0  rodsol/relex-temp,AmeBel/relex,opencog/relex,a...   \n",
       "1  kasemir/org.csstudio.display.builder,ESSICS/or...   \n",
       "\n",
       "                            msg  \\\n",
       "0       print multiple parses\\n   \n",
       "1  Added support for SVG D&D.\\n   \n",
       "\n",
       "                                                 old  \\\n",
       "0  \\t\\t\\t\\tins = out_sock.getInputStream();\\n\\t\\t...   \n",
       "1      private static Stroke OUTLINE_STROKE = new...   \n",
       "\n",
       "                                                 new  selected  \n",
       "0  \\t\\t\\t\\tins = out_sock.getInputStream();\\n\\t\\t...         1  \n",
       "1      private static Stroke OUTLINE_STROKE = new...         1  "
      ]
     },
     "execution_count": 6,
     "metadata": {},
     "output_type": "execute_result"
    }
   ],
   "source": [
    "data_cp.head(2)"
   ]
  },
  {
   "cell_type": "code",
   "execution_count": 7,
   "metadata": {},
   "outputs": [
    {
     "data": {
      "text/plain": [
       "(36396, 6598)"
      ]
     },
     "execution_count": 7,
     "metadata": {},
     "output_type": "execute_result"
    }
   ],
   "source": [
    "sum([1 if i == '' else 0 for i in  data_cp.old.tolist()]), sum([1 if i == '' else 0 for i in  data_cp.new.tolist()])"
   ]
  },
  {
   "cell_type": "code",
   "execution_count": 8,
   "metadata": {},
   "outputs": [],
   "source": [
    "data_cp = data_cp.loc[(data_cp.old != '') & (data_cp.new != '') & (data_cp.old != data_cp.new )]"
   ]
  },
  {
   "cell_type": "code",
   "execution_count": 10,
   "metadata": {},
   "outputs": [
    {
     "data": {
      "text/html": [
       "<div>\n",
       "<style scoped>\n",
       "    .dataframe tbody tr th:only-of-type {\n",
       "        vertical-align: middle;\n",
       "    }\n",
       "\n",
       "    .dataframe tbody tr th {\n",
       "        vertical-align: top;\n",
       "    }\n",
       "\n",
       "    .dataframe thead th {\n",
       "        text-align: right;\n",
       "    }\n",
       "</style>\n",
       "<table border=\"1\" class=\"dataframe\">\n",
       "  <thead>\n",
       "    <tr style=\"text-align: right;\">\n",
       "      <th></th>\n",
       "      <th>commit</th>\n",
       "      <th>repos</th>\n",
       "      <th>msg</th>\n",
       "      <th>old</th>\n",
       "      <th>new</th>\n",
       "      <th>selected</th>\n",
       "    </tr>\n",
       "  </thead>\n",
       "  <tbody>\n",
       "    <tr>\n",
       "      <th>0</th>\n",
       "      <td>dfe15087d9fe3bd8d8ba98c80bf2fc08d26f04f1</td>\n",
       "      <td>rodsol/relex-temp,AmeBel/relex,opencog/relex,a...</td>\n",
       "      <td>print multiple parses\\n</td>\n",
       "      <td>\\n\\t\\t\\t\\tins = out_sock.getInputStream();\\n\\t...</td>\n",
       "      <td>\\t\\t\\t\\tins = out_sock.getInputStream();\\n\\t\\t...</td>\n",
       "      <td>1</td>\n",
       "    </tr>\n",
       "    <tr>\n",
       "      <th>1</th>\n",
       "      <td>dfe15087d9fe3bd8d8ba98c80bf2fc08d26f04f1</td>\n",
       "      <td>rodsol/relex-temp,AmeBel/relex,opencog/relex,a...</td>\n",
       "      <td>print multiple parses\\n</td>\n",
       "      <td>\\t\\t\\t\\tins = out_sock.getInputStream();\\n\\t\\t...</td>\n",
       "      <td>\\t\\t\\t\\tins = out_sock.getInputStream();\\n\\t\\t...</td>\n",
       "      <td>1</td>\n",
       "    </tr>\n",
       "  </tbody>\n",
       "</table>\n",
       "</div>"
      ],
      "text/plain": [
       "                                     commit  \\\n",
       "0  dfe15087d9fe3bd8d8ba98c80bf2fc08d26f04f1   \n",
       "1  dfe15087d9fe3bd8d8ba98c80bf2fc08d26f04f1   \n",
       "\n",
       "                                               repos                      msg  \\\n",
       "0  rodsol/relex-temp,AmeBel/relex,opencog/relex,a...  print multiple parses\\n   \n",
       "1  rodsol/relex-temp,AmeBel/relex,opencog/relex,a...  print multiple parses\\n   \n",
       "\n",
       "                                                 old  \\\n",
       "0  \\n\\t\\t\\t\\tins = out_sock.getInputStream();\\n\\t...   \n",
       "1  \\t\\t\\t\\tins = out_sock.getInputStream();\\n\\t\\t...   \n",
       "\n",
       "                                                 new  selected  \n",
       "0  \\t\\t\\t\\tins = out_sock.getInputStream();\\n\\t\\t...         1  \n",
       "1  \\t\\t\\t\\tins = out_sock.getInputStream();\\n\\t\\t...         1  "
      ]
     },
     "execution_count": 10,
     "metadata": {},
     "output_type": "execute_result"
    }
   ],
   "source": [
    "data_cp_diffusion.head(2)"
   ]
  },
  {
   "cell_type": "code",
   "execution_count": 11,
   "metadata": {},
   "outputs": [
    {
     "data": {
      "text/plain": [
       "(0, 0)"
      ]
     },
     "execution_count": 11,
     "metadata": {},
     "output_type": "execute_result"
    }
   ],
   "source": [
    "sum([1 if i == '' else 0 for i in  data_cp_diffusion.old.tolist()]), sum([1 if i == '' else 0 for i in  data_cp_diffusion.new.tolist()])"
   ]
  },
  {
   "cell_type": "code",
   "execution_count": 12,
   "metadata": {},
   "outputs": [],
   "source": [
    "data_cp_diffusion = data_cp_diffusion.loc[(data_cp_diffusion.old != '') & (data_cp_diffusion.new != '') & (data_cp_diffusion.old != data_cp_diffusion.new )]"
   ]
  },
  {
   "cell_type": "code",
   "execution_count": 13,
   "metadata": {},
   "outputs": [],
   "source": [
    "df = pd.DataFrame({'proj': data_ccn.proj.tolist()+data_cp.repos.tolist()+data_cp_diffusion.repos.tolist(),\n",
    "                    'nl': data_ccn.msg.tolist()+data_cp.msg.tolist()+data_cp_diffusion.msg.tolist(),\n",
    "                    'old': data_ccn.old.tolist()+data_cp.old.tolist()+data_cp_diffusion.old.tolist(),\n",
    "                    'new': data_ccn.new.tolist()+data_cp.new.tolist()+data_cp_diffusion.new.tolist(),\n",
    "                    'lang':data_ccn.lang.tolist()+['java']*len(data_cp)+['java']*len(data_cp_diffusion),\n",
    "                    'type': ['ccn']*len(data_ccn)+['commitpack']*len(data_cp)+['commitpack_diffusion']*len(data_cp_diffusion)})"
   ]
  },
  {
   "cell_type": "code",
   "execution_count": 14,
   "metadata": {},
   "outputs": [
    {
     "data": {
      "text/html": [
       "<div>\n",
       "<style scoped>\n",
       "    .dataframe tbody tr th:only-of-type {\n",
       "        vertical-align: middle;\n",
       "    }\n",
       "\n",
       "    .dataframe tbody tr th {\n",
       "        vertical-align: top;\n",
       "    }\n",
       "\n",
       "    .dataframe thead th {\n",
       "        text-align: right;\n",
       "    }\n",
       "</style>\n",
       "<table border=\"1\" class=\"dataframe\">\n",
       "  <thead>\n",
       "    <tr style=\"text-align: right;\">\n",
       "      <th></th>\n",
       "      <th>proj</th>\n",
       "      <th>nl</th>\n",
       "      <th>old</th>\n",
       "      <th>new</th>\n",
       "      <th>lang</th>\n",
       "      <th>type</th>\n",
       "    </tr>\n",
       "  </thead>\n",
       "  <tbody>\n",
       "    <tr>\n",
       "      <th>0</th>\n",
       "      <td>cockroachdb__copyist</td>\n",
       "      <td>fix panic TestNonSessionPanicsAreNotCaught.</td>\n",
       "      <td>func TestNonSessionPanicsAreNotCaught(t *testi...</td>\n",
       "      <td>func TestNonSessionPanicsAreNotCaught(t *testi...</td>\n",
       "      <td>go</td>\n",
       "      <td>ccn</td>\n",
       "    </tr>\n",
       "    <tr>\n",
       "      <th>1</th>\n",
       "      <td>d07riv__diabloweb</td>\n",
       "      <td>offscreen render off</td>\n",
       "      <td>function onRender(api, ctx, {bitmap, images, t...</td>\n",
       "      <td>function onRender(api, ctx, {bitmap, images, t...</td>\n",
       "      <td>javascript</td>\n",
       "      <td>ccn</td>\n",
       "    </tr>\n",
       "  </tbody>\n",
       "</table>\n",
       "</div>"
      ],
      "text/plain": [
       "                   proj                                           nl  \\\n",
       "0  cockroachdb__copyist  fix panic TestNonSessionPanicsAreNotCaught.   \n",
       "1     d07riv__diabloweb                         offscreen render off   \n",
       "\n",
       "                                                 old  \\\n",
       "0  func TestNonSessionPanicsAreNotCaught(t *testi...   \n",
       "1  function onRender(api, ctx, {bitmap, images, t...   \n",
       "\n",
       "                                                 new        lang type  \n",
       "0  func TestNonSessionPanicsAreNotCaught(t *testi...          go  ccn  \n",
       "1  function onRender(api, ctx, {bitmap, images, t...  javascript  ccn  "
      ]
     },
     "execution_count": 14,
     "metadata": {},
     "output_type": "execute_result"
    }
   ],
   "source": [
    "df.reset_index(drop=True, inplace=True)\n",
    "df.head(2)"
   ]
  },
  {
   "cell_type": "code",
   "execution_count": 15,
   "metadata": {},
   "outputs": [
    {
     "data": {
      "text/plain": [
       "(8898193, 1543017, 1633355, 5721821)"
      ]
     },
     "execution_count": 15,
     "metadata": {},
     "output_type": "execute_result"
    }
   ],
   "source": [
    "len(df), len(data_ccn), len(data_cp), len(data_cp_diffusion)"
   ]
  },
  {
   "cell_type": "code",
   "execution_count": 16,
   "metadata": {},
   "outputs": [
    {
     "data": {
      "text/plain": [
       "(0, 0)"
      ]
     },
     "execution_count": 16,
     "metadata": {},
     "output_type": "execute_result"
    }
   ],
   "source": [
    "sum([1 if i == '' else 0 for i in  df.old.tolist()]), sum([1 if i == '' else 0 for i in  df.new.tolist()])"
   ]
  },
  {
   "cell_type": "code",
   "execution_count": 17,
   "metadata": {},
   "outputs": [],
   "source": [
    "data = df.sample(frac=1, random_state=42)"
   ]
  },
  {
   "cell_type": "code",
   "execution_count": 18,
   "metadata": {},
   "outputs": [
    {
     "data": {
      "text/html": [
       "<div>\n",
       "<style scoped>\n",
       "    .dataframe tbody tr th:only-of-type {\n",
       "        vertical-align: middle;\n",
       "    }\n",
       "\n",
       "    .dataframe tbody tr th {\n",
       "        vertical-align: top;\n",
       "    }\n",
       "\n",
       "    .dataframe thead th {\n",
       "        text-align: right;\n",
       "    }\n",
       "</style>\n",
       "<table border=\"1\" class=\"dataframe\">\n",
       "  <thead>\n",
       "    <tr style=\"text-align: right;\">\n",
       "      <th></th>\n",
       "      <th>proj</th>\n",
       "      <th>nl</th>\n",
       "      <th>old</th>\n",
       "      <th>new</th>\n",
       "      <th>lang</th>\n",
       "      <th>type</th>\n",
       "    </tr>\n",
       "  </thead>\n",
       "  <tbody>\n",
       "    <tr>\n",
       "      <th>0</th>\n",
       "      <td>jooby-project/jooby,jooby-project/jooby,jooby-...</td>\n",
       "      <td>add foreach test to rx2\\n</td>\n",
       "      <td>Maybe.empty()\\n              .subscr...</td>\n",
       "      <td>Maybe.empty()\\n              .subscr...</td>\n",
       "      <td>java</td>\n",
       "      <td>commitpack_diffusion</td>\n",
       "    </tr>\n",
       "    <tr>\n",
       "      <th>1</th>\n",
       "      <td>mariosotil/couchbase-lite-java-core,deleet/cou...</td>\n",
       "      <td>Fix for testReplicatorErrorStatus() that was f...</td>\n",
       "      <td>*/\\n    @InterfaceAudience.Public\\n    pu...</td>\n",
       "      <td>*/\\n    @InterfaceAudience.Public\\n    pu...</td>\n",
       "      <td>java</td>\n",
       "      <td>commitpack_diffusion</td>\n",
       "    </tr>\n",
       "    <tr>\n",
       "      <th>2</th>\n",
       "      <td>karlthepagan/levelup-java-examples,MartinMSPed...</td>\n",
       "      <td>updated example per @TatuSaloranta feedback\\n</td>\n",
       "      <td>\\t\\t\\t\\tnew TypeReference&lt;HashMap&lt;String, Obje...</td>\n",
       "      <td>\\t\\t\\t\\tnew TypeReference&lt;HashMap&lt;String, Obje...</td>\n",
       "      <td>java</td>\n",
       "      <td>commitpack</td>\n",
       "    </tr>\n",
       "    <tr>\n",
       "      <th>3</th>\n",
       "      <td>rubygems__rubygems</td>\n",
       "      <td>Move TODO comment to an information comment</td>\n",
       "      <td>class Gem::DependencyInstaller\\n    if conside...</td>\n",
       "      <td>class Gem::DependencyInstaller\\n    if conside...</td>\n",
       "      <td>ruby</td>\n",
       "      <td>ccn</td>\n",
       "    </tr>\n",
       "  </tbody>\n",
       "</table>\n",
       "</div>"
      ],
      "text/plain": [
       "                                                proj  \\\n",
       "0  jooby-project/jooby,jooby-project/jooby,jooby-...   \n",
       "1  mariosotil/couchbase-lite-java-core,deleet/cou...   \n",
       "2  karlthepagan/levelup-java-examples,MartinMSPed...   \n",
       "3                                 rubygems__rubygems   \n",
       "\n",
       "                                                  nl  \\\n",
       "0                          add foreach test to rx2\\n   \n",
       "1  Fix for testReplicatorErrorStatus() that was f...   \n",
       "2      updated example per @TatuSaloranta feedback\\n   \n",
       "3        Move TODO comment to an information comment   \n",
       "\n",
       "                                                 old  \\\n",
       "0            Maybe.empty()\\n              .subscr...   \n",
       "1       */\\n    @InterfaceAudience.Public\\n    pu...   \n",
       "2  \\t\\t\\t\\tnew TypeReference<HashMap<String, Obje...   \n",
       "3  class Gem::DependencyInstaller\\n    if conside...   \n",
       "\n",
       "                                                 new  lang  \\\n",
       "0            Maybe.empty()\\n              .subscr...  java   \n",
       "1       */\\n    @InterfaceAudience.Public\\n    pu...  java   \n",
       "2  \\t\\t\\t\\tnew TypeReference<HashMap<String, Obje...  java   \n",
       "3  class Gem::DependencyInstaller\\n    if conside...  ruby   \n",
       "\n",
       "                   type  \n",
       "0  commitpack_diffusion  \n",
       "1  commitpack_diffusion  \n",
       "2            commitpack  \n",
       "3                   ccn  "
      ]
     },
     "execution_count": 18,
     "metadata": {},
     "output_type": "execute_result"
    }
   ],
   "source": [
    "data.reset_index(drop=True, inplace=True)\n",
    "data.head(4)"
   ]
  },
  {
   "cell_type": "code",
   "execution_count": 19,
   "metadata": {},
   "outputs": [
    {
     "name": "stderr",
     "output_type": "stream",
     "text": [
      "100%|██████████| 296606/296606 [00:31<00:00, 9482.35it/s]\n",
      "100%|██████████| 296606/296606 [00:31<00:00, 9440.92it/s]\n",
      "100%|██████████| 296606/296606 [00:30<00:00, 9608.94it/s]\n",
      "100%|██████████| 296606/296606 [00:30<00:00, 9665.45it/s]\n",
      "100%|██████████| 296606/296606 [00:32<00:00, 9238.41it/s]\n",
      "100%|██████████| 296606/296606 [00:31<00:00, 9308.63it/s]\n",
      "100%|██████████| 296606/296606 [00:31<00:00, 9565.40it/s]\n",
      "100%|██████████| 296606/296606 [00:29<00:00, 9913.49it/s] \n",
      "100%|██████████| 296606/296606 [00:31<00:00, 9477.82it/s]\n",
      "100%|██████████| 296606/296606 [00:30<00:00, 9792.76it/s]\n",
      "100%|██████████| 296606/296606 [00:31<00:00, 9491.58it/s]\n",
      "100%|██████████| 296606/296606 [00:31<00:00, 9411.05it/s]\n",
      "100%|██████████| 296606/296606 [00:30<00:00, 9653.20it/s]\n",
      "100%|██████████| 296606/296606 [00:30<00:00, 9748.98it/s]\n",
      "100%|██████████| 296606/296606 [00:30<00:00, 9693.30it/s] \n",
      "100%|██████████| 296606/296606 [00:30<00:00, 9664.63it/s]\n",
      "100%|██████████| 296606/296606 [00:30<00:00, 9846.46it/s] \n",
      "100%|██████████| 296606/296606 [00:30<00:00, 9589.69it/s]\n",
      "100%|██████████| 296606/296606 [00:29<00:00, 10001.33it/s]\n",
      "100%|██████████| 296606/296606 [00:30<00:00, 9771.72it/s] \n",
      "100%|██████████| 296606/296606 [00:29<00:00, 9954.48it/s] \n",
      "100%|██████████| 296606/296606 [00:30<00:00, 9706.35it/s]\n",
      "100%|██████████| 296606/296606 [00:29<00:00, 10015.58it/s]\n",
      "100%|██████████| 296606/296606 [00:30<00:00, 9750.85it/s]\n",
      "100%|██████████| 296606/296606 [00:31<00:00, 9432.24it/s]\n",
      "100%|██████████| 296606/296606 [00:31<00:00, 9356.50it/s]\n",
      "100%|██████████| 296606/296606 [00:30<00:00, 9806.38it/s]\n",
      "100%|██████████| 296606/296606 [00:31<00:00, 9471.08it/s]\n",
      "100%|██████████| 296606/296606 [00:30<00:00, 9706.03it/s]\n",
      "100%|██████████| 296619/296619 [00:31<00:00, 9478.03it/s]\n"
     ]
    }
   ],
   "source": [
    "split_num = 30\n",
    "for i in range(split_num):\n",
    "    start = i*int(len(data)/split_num)\n",
    "    end = (i+1)*int(len(data)/split_num)\n",
    "    if i == split_num-1:\n",
    "        end = len(data)\n",
    "    save_data(data.iloc[start:end,:], f'./dataset_V7/train_{i}', suffix='jsonl')"
   ]
  }
 ],
 "metadata": {
  "kernelspec": {
   "display_name": "torch",
   "language": "python",
   "name": "python3"
  },
  "language_info": {
   "codemirror_mode": {
    "name": "ipython",
    "version": 3
   },
   "file_extension": ".py",
   "mimetype": "text/x-python",
   "name": "python",
   "nbconvert_exporter": "python",
   "pygments_lexer": "ipython3",
   "version": "3.9.18"
  }
 },
 "nbformat": 4,
 "nbformat_minor": 2
}
